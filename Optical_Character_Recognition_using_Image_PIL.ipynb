{
  "nbformat": 4,
  "nbformat_minor": 0,
  "metadata": {
    "colab": {
      "name": "Optical_Character_Recognition_using_Image (1).ipynb",
      "provenance": [],
      "collapsed_sections": [],
      "include_colab_link": true
    },
    "kernelspec": {
      "name": "python3",
      "display_name": "Python 3"
    }
  },
  "cells": [
    {
      "cell_type": "markdown",
      "metadata": {
        "id": "view-in-github",
        "colab_type": "text"
      },
      "source": [
        "<a href=\"https://colab.research.google.com/github/AhmedNobi/Optical-_character_-recognition/blob/main/Optical_Character_Recognition_using_Image_PIL.ipynb\" target=\"_parent\"><img src=\"https://colab.research.google.com/assets/colab-badge.svg\" alt=\"Open In Colab\"/></a>"
      ]
    },
    {
      "cell_type": "markdown",
      "metadata": {
        "id": "IfZZ_FCrsG4O"
      },
      "source": [
        "In this project, we will be working on extracting text from images. After extracting the text we will apply some basic functions of OpenCV on that text to enhance it and to get more accurate results. This project will be very useful as it will save time and effort of typing from an image."
      ]
    },
    {
      "cell_type": "code",
      "metadata": {
        "id": "VWiRKccU-hdo"
      },
      "source": [
        "#import requests to install tesseract\n",
        "import requests  "
      ],
      "execution_count": 21,
      "outputs": []
    },
    {
      "cell_type": "markdown",
      "metadata": {
        "id": "Knit4M4CuuzP"
      },
      "source": [
        "We will importing request library for fetching the url for git files and images.\n"
      ]
    },
    {
      "cell_type": "code",
      "metadata": {
        "id": "nK745YIFWAN9"
      },
      "source": [
        "# Downloading tesseract-ocr file\n",
        "r = requests.get(\"https://raw.githubusercontent.com/tesseract-ocr/tessdata/4.00/ind.traineddata\", stream = True)  \n",
        "  \n",
        "# Writing data to file to avoid path isuues\n",
        "with open(\"/usr/share/tesseract-ocr/4.00/tessdata/ind.traineddata\", \"wb\") as file:  \n",
        "    for block in r.iter_content(chunk_size = 1024): \n",
        "         if block:  \n",
        "             file.write(block)"
      ],
      "execution_count": 22,
      "outputs": []
    },
    {
      "cell_type": "markdown",
      "metadata": {
        "id": "oRo-KqacvDMT"
      },
      "source": [
        "We will now download tesseract which is required for pytesseract library to run and save the file at the path in open() function."
      ]
    },
    {
      "cell_type": "code",
      "metadata": {
        "id": "27xb7Dxk8Xlq"
      },
      "source": [
        "# Installing libraries required for optical character recognition\n",
        "! apt install tesseract-ocr libtesseract-dev libmagickwand-dev\n",
        "\n",
        "# Importing IPython to clear output which is not important \n",
        "from IPython.display import HTML, clear_output\n",
        "clear_output()"
      ],
      "execution_count": 23,
      "outputs": []
    },
    {
      "cell_type": "markdown",
      "metadata": {
        "id": "Fd1K_HKRveEK"
      },
      "source": [
        "In this step we will install the required libraries for ocr and we will also import IPython fucntions to clear the undesired."
      ]
    },
    {
      "cell_type": "code",
      "metadata": {
        "id": "S0JWmbpG8f4p"
      },
      "source": [
        "# Installing pytesseract and opencv\n",
        "! pip install pytesseract wand opencv-python\n",
        "clear_output()"
      ],
      "execution_count": 24,
      "outputs": []
    },
    {
      "cell_type": "markdown",
      "metadata": {
        "id": "vhz1mgEQvy81"
      },
      "source": [
        "Now we will install pytesseract and opencv libraries."
      ]
    },
    {
      "cell_type": "code",
      "metadata": {
        "id": "IcZaJ7m68mbD"
      },
      "source": [
        "# Import libraries\n",
        "from PIL import Image\n",
        "import pytesseract\n",
        "import cv2\n",
        "import numpy as np\n",
        "from pytesseract import Output\n",
        "import re"
      ],
      "execution_count": 25,
      "outputs": []
    },
    {
      "cell_type": "markdown",
      "metadata": {
        "id": "mNzT7Qp4v-hE"
      },
      "source": [
        "Importing required libraries"
      ]
    },
    {
      "cell_type": "code",
      "metadata": {
        "id": "ddQuOg6WSQ0O",
        "colab": {
          "base_uri": "https://localhost:8080/",
          "height": 167
        },
        "outputId": "6e3ed127-7362-49aa-9a00-feeac81979c5"
      },
      "source": [
        "# Reading image form url\n",
        "image = Image.open(requests.get('https://i.stack.imgur.com/pbIdS.png', stream=True).raw)\n",
        "image = image.resize((300,150))\n",
        "image.save('sample.png')\n",
        "image"
      ],
      "execution_count": 26,
      "outputs": [
        {
          "output_type": "execute_result",
          "data": {
            "text/plain": [
              "<PIL.Image.Image image mode=RGB size=300x150 at 0x7F4939E54B90>"
            ],
            "image/png": "[encoded data removed]"
          },
          "metadata": {},
          "execution_count": 26
        }
      ]
    },
    {
      "cell_type": "markdown",
      "metadata": {
        "id": "cFLMRAxzwCax"
      },
      "source": [
        "In this step we will, open an image resize it and then again save it for further use and visualize it."
      ]
    },
    {
      "cell_type": "code",
      "metadata": {
        "colab": {
          "base_uri": "https://localhost:8080/"
        },
        "id": "S9dB9nMw82jY",
        "outputId": "0a1f6f8c-625f-4c18-e4ab-04170ca8a9a6"
      },
      "source": [
        "# Simply extracting text from image \n",
        "custom_config = r'-l eng --oem 3 --psm 6' \n",
        "text = pytesseract.image_to_string(image,config=custom_config)\n",
        "print(text)"
      ],
      "execution_count": 27,
      "outputs": [
        {
          "output_type": "stream",
          "name": "stdout",
          "text": [
            "Normal text and bold text\n",
            "\n",
            "Italic text and bold italic text\n",
            "\n",
            "Normal text and artificially bold text\n",
            "Artificially outlined) text\n",
            "\n",
            "Altificially italic text and bold italic text\n",
            "\f\n"
          ]
        }
      ]
    },
    {
      "cell_type": "markdown",
      "metadata": {
        "id": "yGhitjxJwQCN"
      },
      "source": [
        "Here we will be extracting the text from image with custom configuration."
      ]
    },
    {
      "cell_type": "code",
      "metadata": {
        "colab": {
          "base_uri": "https://localhost:8080/"
        },
        "id": "hkyQcR4S8rud",
        "outputId": "e1ad951f-f678-4446-f144-7236908ad88a"
      },
      "source": [
        "# Extracting text from image and removing irrelevant symbols from characters\n",
        "try:\n",
        "  text=pytesseract.image_to_string(image,lang=\"eng\")\n",
        "  characters_to_remove = \"!()@—*“>+-/,'|£#%$&^_~\"\n",
        "  new_string = text\n",
        "  for character in characters_to_remove:\n",
        "    new_string = new_string.replace(character, \"\")\n",
        "  print(new_string)\n",
        "except IOError as e:\n",
        "    print(\"Error (%s).\" % e)"
      ],
      "execution_count": 28,
      "outputs": [
        {
          "output_type": "stream",
          "name": "stdout",
          "text": [
            " \n",
            "\n",
            " \n",
            "\n",
            "Normal text and bold text\n",
            "Italic text and bold italic text\n",
            "\n",
            "Normal text and artificially bold text\n",
            "Artificially outlined text\n",
            "\n",
            "Altificially italic text and bold italic text\n",
            "\n",
            " \n",
            "\n",
            " \n",
            "\f\n"
          ]
        }
      ]
    },
    {
      "cell_type": "markdown",
      "metadata": {
        "id": "NPMVQf0XwxTV"
      },
      "source": [
        "Now we will remove unwanted symbols from the text we extracted by replacing the symbol with an empty string."
      ]
    },
    {
      "cell_type": "code",
      "metadata": {
        "id": "fZeJlPbHNbmM"
      },
      "source": [
        "# Now we will perform opencv operations to get text from complex images\n",
        "image = cv2.imread('sample.png')"
      ],
      "execution_count": 29,
      "outputs": []
    },
    {
      "cell_type": "markdown",
      "metadata": {
        "id": "rD30NI1mxVFF"
      },
      "source": [
        "In above cell, we are reading the image into opencv format to process it further. This is required when we need to extract the text from complex images."
      ]
    },
    {
      "cell_type": "code",
      "metadata": {
        "id": "mwil8wnzNfKD",
        "colab": {
          "base_uri": "https://localhost:8080/",
          "height": 167
        },
        "outputId": "41642e6e-3f97-4f22-cd33-e1607302740d"
      },
      "source": [
        "# get grayscale image\n",
        "def get_grayscale(image):\n",
        "    return cv2.cvtColor(image, cv2.COLOR_BGR2GRAY)\n",
        "gray = get_grayscale(image)\n",
        "Image.fromarray(gray)"
      ],
      "execution_count": 30,
      "outputs": [
        {
          "output_type": "execute_result",
          "data": {
            "text/plain": [
              "<PIL.Image.Image image mode=L size=300x150 at 0x7F4929A65250>"
            ],
            "image/png": "[encoded data removed]"
          },
          "metadata": {},
          "execution_count": 30
        }
      ]
    },
    {
      "cell_type": "markdown",
      "metadata": {
        "id": "7it5Vy-qxtw_"
      },
      "source": [
        "Converting the images to grayscale so that it becomes less complex to process as it will have only two values 0 and 1. cv2.cvtColor() method is used to convert an image from one color space to another. There are more than 150 color-space conversion methods available in OpenCV."
      ]
    },
    {
      "cell_type": "code",
      "metadata": {
        "id": "HTmZDzgJNfM4",
        "colab": {
          "base_uri": "https://localhost:8080/",
          "height": 167
        },
        "outputId": "85bde542-de7c-411b-d1ac-5f76f876cb89"
      },
      "source": [
        "# noise removal\n",
        "def remove_noise(image):\n",
        "    return cv2.medianBlur(image,5)\n",
        "noise = remove_noise(gray)\n",
        "Image.fromarray(gray)"
      ],
      "execution_count": 31,
      "outputs": [
        {
          "output_type": "execute_result",
          "data": {
            "text/plain": [
              "<PIL.Image.Image image mode=L size=300x150 at 0x7F4929A65C90>"
            ],
            "image/png": "[encoded data removed]"
          },
          "metadata": {},
          "execution_count": 31
        }
      ]
    },
    {
      "cell_type": "markdown",
      "metadata": {
        "id": "OVNtI867yF75"
      },
      "source": [
        "Now we will blur the image so that we can remove the noise from the image. Here, the function cv2.medianBlur() computes the median of all the pixels under the kernel window and the central pixel is replaced with this median value. This is highly effective in removing noise."
      ]
    },
    {
      "cell_type": "code",
      "metadata": {
        "id": "Jf6bFQo8OSFW",
        "colab": {
          "base_uri": "https://localhost:8080/",
          "height": 167
        },
        "outputId": "a6d6c93c-e1d3-4a44-be55-a64fcea23038"
      },
      "source": [
        "#thresholding\n",
        "def thresholding(image):\n",
        "    return cv2.threshold(image, 0, 255, cv2.THRESH_BINARY + cv2.THRESH_OTSU)[1]\n",
        "thresh = thresholding(gray)\n",
        "Image.fromarray(thresh)"
      ],
      "execution_count": 32,
      "outputs": [
        {
          "output_type": "execute_result",
          "data": {
            "text/plain": [
              "<PIL.Image.Image image mode=L size=300x150 at 0x7F4929B10990>"
            ],
            "image/png": "[encoded data removed]"
          },
          "metadata": {},
          "execution_count": 32
        }
      ]
    },
    {
      "cell_type": "markdown",
      "metadata": {
        "id": "kXdi8EQAyfsG"
      },
      "source": [
        "We will perform threshold transformation here. \n",
        "cv2. If pixel value is greater than a threshold value, it is assigned one value (may be white), else it is assigned another value (may be black). The function used is cv2.threshold. First argument is the source image, which should be a grayscale image.\n"
      ]
    },
    {
      "cell_type": "code",
      "metadata": {
        "id": "CItQhwf0OlZH",
        "colab": {
          "base_uri": "https://localhost:8080/",
          "height": 167
        },
        "outputId": "45ea35db-5383-4391-bb7a-fc9cfe7da493"
      },
      "source": [
        "#erosion\n",
        "def erode(image):\n",
        "    kernel = np.ones((5,5),np.uint8)\n",
        "    return cv2.erode(image, kernel, iterations = 1)\n",
        "erode = erode(gray)\n",
        "Image.fromarray(erode)"
      ],
      "execution_count": 33,
      "outputs": [
        {
          "output_type": "execute_result",
          "data": {
            "text/plain": [
              "<PIL.Image.Image image mode=L size=300x150 at 0x7F4929A51910>"
            ],
            "image/png": "[encoded data removed]"
          },
          "metadata": {},
          "execution_count": 33
        }
      ]
    },
    {
      "cell_type": "markdown",
      "metadata": {
        "id": "R0Q9LXjxK_J_"
      },
      "source": [
        "Here we are doing erode transformation. \n",
        "cv2.erode() method is used to perform erosion on the image. The basic idea of erosion is just like soil erosion only, it erodes away the boundaries of foreground object (Always try to keep foreground in white). It is normally performed on binary images. It needs two inputs, one is our original image, second one is called structuring element or kernel which decides the nature of operation."
      ]
    },
    {
      "cell_type": "code",
      "metadata": {
        "id": "jFBP1MzaOpgg",
        "colab": {
          "base_uri": "https://localhost:8080/",
          "height": 167
        },
        "outputId": "7d8707b1-92e7-48af-9664-b8b6c8281409"
      },
      "source": [
        "#Morphology\n",
        "def opening(image):\n",
        "    kernel = np.ones((5,5),np.uint8)\n",
        "    return cv2.morphologyEx(image, cv2.MORPH_OPEN, kernel)\n",
        "opening = opening(gray)\n",
        "Image.fromarray(opening)"
      ],
      "execution_count": 34,
      "outputs": [
        {
          "output_type": "execute_result",
          "data": {
            "text/plain": [
              "<PIL.Image.Image image mode=L size=300x150 at 0x7F4929A51390>"
            ],
            "image/png": "[encoded data removed]"
          },
          "metadata": {},
          "execution_count": 34
        }
      ]
    },
    {
      "cell_type": "markdown",
      "metadata": {
        "id": "LvGTm87LLb4Y"
      },
      "source": [
        "Here we will perform morphological trandformation. It is useful in opening small holes inside the foreground objects, or small white points on the object."
      ]
    },
    {
      "cell_type": "code",
      "metadata": {
        "id": "8UCEPg6vOpje",
        "colab": {
          "base_uri": "https://localhost:8080/",
          "height": 167
        },
        "outputId": "031e885b-be32-4eec-819d-5d96e53cfb05"
      },
      "source": [
        "#canny edge detection\n",
        "def canny(image):\n",
        "    return cv2.Canny(image, 100, 200)\n",
        "canny = canny(gray)\n",
        "Image.fromarray(canny)"
      ],
      "execution_count": 35,
      "outputs": [
        {
          "output_type": "execute_result",
          "data": {
            "text/plain": [
              "<PIL.Image.Image image mode=L size=300x150 at 0x7F4929A6AF90>"
            ],
            "image/png": "[encoded data removed]"
          },
          "metadata": {},
          "execution_count": 35
        }
      ]
    },
    {
      "cell_type": "markdown",
      "metadata": {
        "id": "T8Wttdq6MVWn"
      },
      "source": [
        "Canny transformation is used to detect egdes in the image."
      ]
    },
    {
      "cell_type": "code",
      "metadata": {
        "id": "Mi-ulaT79GXP",
        "colab": {
          "base_uri": "https://localhost:8080/",
          "height": 167
        },
        "outputId": "95e59176-014f-42b9-ca88-72a541eca719"
      },
      "source": [
        "#skew correction\n",
        "def deskew(image):\n",
        "    coords = np.column_stack(np.where(image > 0))\n",
        "    angle = cv2.minAreaRect(coords)[-1]\n",
        "    if angle < -45:\n",
        "        angle = -(90 + angle)\n",
        "    else:\n",
        "        angle = -angle\n",
        "    (h, w) = image.shape[:2]\n",
        "    center = (w // 2, h // 2)\n",
        "    M = cv2.getRotationMatrix2D(center, angle, 1.0)\n",
        "    rotated = cv2.warpAffine(image, M, (w, h), flags=cv2.INTER_CUBIC, borderMode=cv2.BORDER_REPLICATE)\n",
        "    return rotated\n",
        "rotated = deskew(gray)\n",
        "Image.fromarray(rotated)"
      ],
      "execution_count": 36,
      "outputs": [
        {
          "output_type": "execute_result",
          "data": {
            "text/plain": [
              "<PIL.Image.Image image mode=L size=300x150 at 0x7F4929A76210>"
            ],
            "image/png": "[encoded data removed]"
          },
          "metadata": {},
          "execution_count": 36
        }
      ]
    },
    {
      "cell_type": "markdown",
      "metadata": {
        "id": "-CvFxN_WM4wE"
      },
      "source": [
        "Now we will apply deskewing on the image. Deskewing is a process whereby skew is removed by rotating an image by the same amount as its skew but in the opposite direction. This results in a horizontally and vertically aligned image where the text runs across the page rather than at an angle."
      ]
    },
    {
      "cell_type": "code",
      "metadata": {
        "id": "RDyM-9xtOu4t",
        "colab": {
          "base_uri": "https://localhost:8080/"
        },
        "outputId": "ebb42434-a9b3-41b5-a25c-53af81a56d4b"
      },
      "source": [
        "#template matching\n",
        "def match_template(image, template):\n",
        "    return cv2.matchTemplate(image, template, cv2.TM_CCOEFF_NORMED)\n",
        "match = match_template(gray, gray)\n",
        "match"
      ],
      "execution_count": 37,
      "outputs": [
        {
          "output_type": "execute_result",
          "data": {
            "text/plain": [
              "array([[1.]], dtype=float32)"
            ]
          },
          "metadata": {},
          "execution_count": 37
        }
      ]
    },
    {
      "cell_type": "markdown",
      "metadata": {
        "id": "5ntvKPVzNcRl"
      },
      "source": [
        "Here we are trying to match the image. As we are passing same image for matching we got the similarity of 99.99%. Here, template matching is a method for searching and finding the location of a template image in a larger image. OpenCV comes with a function cv2.matchTemplate() for this purpose. It simply slides the template image over the input image (as in 2D convolution) and compares the template and patch of input image under the template image.  "
      ]
    },
    {
      "cell_type": "code",
      "metadata": {
        "id": "9lkyCo7vLA-K",
        "colab": {
          "base_uri": "https://localhost:8080/",
          "height": 167
        },
        "outputId": "587d8be5-a223-4191-d1de-69c0231dc606"
      },
      "source": [
        "# Drawing rectangle around text\n",
        "img = cv2.imread('sample.png')\n",
        "h, w, c = img.shape\n",
        "boxes = pytesseract.image_to_boxes(img) \n",
        "for b in boxes.splitlines():\n",
        "    b = b.split(' ')\n",
        "    img = cv2.rectangle(img, (int(b[1]), h - int(b[2])), (int(b[3]), h - int(b[4])), (0, 255, 0), 2)\n",
        "Image.fromarray(img)"
      ],
      "execution_count": 38,
      "outputs": [
        {
          "output_type": "execute_result",
          "data": {
            "text/plain": [
              "<PIL.Image.Image image mode=RGB size=300x150 at 0x7F4940267950>"
            ],
            "image/png": "[encoded data removed]"
          },
          "metadata": {},
          "execution_count": 38
        }
      ]
    },
    {
      "cell_type": "markdown",
      "metadata": {
        "id": "Vckm12_Ry_FR"
      },
      "source": [
        "Now we will segregate every character in the text by creating a rectangle around it."
      ]
    },
    {
      "cell_type": "code",
      "metadata": {
        "id": "qLOnR80ZMKff",
        "colab": {
          "base_uri": "https://localhost:8080/",
          "height": 167
        },
        "outputId": "9c5e8699-299f-4e77-e488-fe6602510435"
      },
      "source": [
        "# Drawing pattern on specific pattern or word\n",
        "img = cv2.imread('sample.png')\n",
        "d = pytesseract.image_to_data(img, output_type=Output.DICT)\n",
        "keys = list(d.keys())\n",
        "\n",
        "date_pattern = 'artificially'\n",
        "\n",
        "n_boxes = len(d['text'])\n",
        "for i in range(n_boxes):\n",
        "    if int(d['conf'][i]) > 60:\n",
        "    \tif re.match(date_pattern, d['text'][i]):\n",
        "\t        (x, y, w, h) = (d['left'][i], d['top'][i], d['width'][i], d['height'][i])\n",
        "\t        img = cv2.rectangle(img, (x, y), (x + w, y + h), (0, 255, 0), 2)\n",
        "Image.fromarray(img)"
      ],
      "execution_count": 39,
      "outputs": [
        {
          "output_type": "execute_result",
          "data": {
            "text/plain": [
              "<PIL.Image.Image image mode=RGB size=300x150 at 0x7F4939E06D50>"
            ],
            "image/png": "[encoded data removed]"
          },
          "metadata": {},
          "execution_count": 39
        }
      ]
    },
    {
      "cell_type": "markdown",
      "metadata": {
        "id": "vbNP1Uw0zbrN"
      },
      "source": [
        "Similarly we can draw rectangle around the specific pattern or word."
      ]
    },
    {
      "cell_type": "markdown",
      "metadata": {
        "id": "5TGVRpZFzk3v"
      },
      "source": [
        "# Conclusion:"
      ]
    },
    {
      "cell_type": "markdown",
      "metadata": {
        "id": "FgnHlCurzqFy"
      },
      "source": [
        "We started with learning how to install tesseract which is the used for text extraction. Next we took an image and extracted the text from that image. We learned that we need to use certain image transformation function of OpenCV in order to extract text from complex images.\n"
      ]
    },
    {
      "cell_type": "markdown",
      "metadata": {
        "id": "SKG4Kah90cBm"
      },
      "source": [
        "## Scope:"
      ]
    },
    {
      "cell_type": "markdown",
      "metadata": {
        "id": "0DYpV9Ap0mu5"
      },
      "source": [
        "Different organization can use this to extract useful information from the image and store it. Individuals can use it for saving their time and effort for typing."
      ]
    }
  ]
}